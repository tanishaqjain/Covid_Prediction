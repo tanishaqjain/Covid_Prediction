{
  "nbformat": 4,
  "nbformat_minor": 0,
  "metadata": {
    "colab": {
      "name": "COVID-19 Detector",
      "provenance": []
    },
    "kernelspec": {
      "name": "python3",
      "display_name": "Python 3"
    },
    "accelerator": "GPU"
  },
  "cells": [
    {
      "cell_type": "code",
      "metadata": {
        "id": "jcSTCf3Xp2f9",
        "colab": {
          "base_uri": "https://localhost:8080/"
        },
        "outputId": "16a2ead0-12df-4d11-d2bb-bde912724a3d"
      },
      "source": [
        "# Dataset : http://cb.lk/covid_19\n",
        "\n",
        "!wget http://cb.lk/covid_19\n"
      ],
      "execution_count": 1,
      "outputs": [
        {
          "output_type": "stream",
          "text": [
            "--2021-06-11 12:30:55--  http://cb.lk/covid_19\n",
            "Resolving cb.lk (cb.lk)... 172.67.187.81, 104.21.72.203, 2606:4700:3031::6815:48cb, ...\n",
            "Connecting to cb.lk (cb.lk)|172.67.187.81|:80... connected.\n",
            "HTTP request sent, awaiting response... 301 Moved Permanently\n",
            "Location: https://cb.lk/covid_19 [following]\n",
            "--2021-06-11 12:30:55--  https://cb.lk/covid_19\n",
            "Connecting to cb.lk (cb.lk)|172.67.187.81|:443... connected.\n",
            "HTTP request sent, awaiting response... 302 Found\n",
            "Location: https://www.dropbox.com/s/7rjw6oet4za01op/CovidDataset-20200427T133042Z-001.zip?dl=0 [following]\n",
            "--2021-06-11 12:30:56--  https://www.dropbox.com/s/7rjw6oet4za01op/CovidDataset-20200427T133042Z-001.zip?dl=0\n",
            "Resolving www.dropbox.com (www.dropbox.com)... 162.125.66.18, 2620:100:6022:18::a27d:4212\n",
            "Connecting to www.dropbox.com (www.dropbox.com)|162.125.66.18|:443... connected.\n",
            "HTTP request sent, awaiting response... 301 Moved Permanently\n",
            "Location: /s/raw/7rjw6oet4za01op/CovidDataset-20200427T133042Z-001.zip [following]\n",
            "--2021-06-11 12:30:56--  https://www.dropbox.com/s/raw/7rjw6oet4za01op/CovidDataset-20200427T133042Z-001.zip\n",
            "Reusing existing connection to www.dropbox.com:443.\n",
            "HTTP request sent, awaiting response... 302 Found\n",
            "Location: https://uc87052d18b89adf8951d373ff18.dl.dropboxusercontent.com/cd/0/inline/BQNPaa6WAKgj8u_-t3RtYG6oKG9NoYkQEqMtwDFJZf5OWDG-C2OAAn8FPfE9Jodvawq4XNVDi7ee7EZfJ-EurI0ybftTK6rMVTLqplG7MjUvk8FEzq-7RwpDWWimzdgfHxCdwhrjH0fNfpdIG22bxQ9o/file# [following]\n",
            "--2021-06-11 12:30:56--  https://uc87052d18b89adf8951d373ff18.dl.dropboxusercontent.com/cd/0/inline/BQNPaa6WAKgj8u_-t3RtYG6oKG9NoYkQEqMtwDFJZf5OWDG-C2OAAn8FPfE9Jodvawq4XNVDi7ee7EZfJ-EurI0ybftTK6rMVTLqplG7MjUvk8FEzq-7RwpDWWimzdgfHxCdwhrjH0fNfpdIG22bxQ9o/file\n",
            "Resolving uc87052d18b89adf8951d373ff18.dl.dropboxusercontent.com (uc87052d18b89adf8951d373ff18.dl.dropboxusercontent.com)... 162.125.4.15, 2620:100:6020:15::a27d:400f\n",
            "Connecting to uc87052d18b89adf8951d373ff18.dl.dropboxusercontent.com (uc87052d18b89adf8951d373ff18.dl.dropboxusercontent.com)|162.125.4.15|:443... connected.\n",
            "HTTP request sent, awaiting response... 302 Found\n",
            "Location: /cd/0/inline2/BQNTbG9i_lEHcerg-xYw3Cmwh884BdR8FZU-cETkhC4SOoei7L0qopxc9un7un9A-6j0j0oxy4iXQeaTKN5-ZElFAe75GTedcvJdEsYF-puPCFEEEaehp0VcsHojtGCkuMoS8c1QEtBkpCqU_6OwUxi3P3KnldErqV9bfZc5rikR0KsesLOLdZGD-UcAYQKB1hk1nTGjaIhemMGcOMMBSS-STHKNmqEFq55mZgo7oEU6TQzHyMOa_Zmvz3_fUPQzVr1L-tLgcy6vE-fvtDzFHV4Softcv0UeMMwgw7eDbPd9YFPigh2oWZ_if0zu7d18u0TXtLwKu_zGKjdIWnAWtqAN9-PnkD1pEfsgpj-NKl3j9t9WCpVqdFU95jsnM72WBw0/file [following]\n",
            "--2021-06-11 12:30:57--  https://uc87052d18b89adf8951d373ff18.dl.dropboxusercontent.com/cd/0/inline2/BQNTbG9i_lEHcerg-xYw3Cmwh884BdR8FZU-cETkhC4SOoei7L0qopxc9un7un9A-6j0j0oxy4iXQeaTKN5-ZElFAe75GTedcvJdEsYF-puPCFEEEaehp0VcsHojtGCkuMoS8c1QEtBkpCqU_6OwUxi3P3KnldErqV9bfZc5rikR0KsesLOLdZGD-UcAYQKB1hk1nTGjaIhemMGcOMMBSS-STHKNmqEFq55mZgo7oEU6TQzHyMOa_Zmvz3_fUPQzVr1L-tLgcy6vE-fvtDzFHV4Softcv0UeMMwgw7eDbPd9YFPigh2oWZ_if0zu7d18u0TXtLwKu_zGKjdIWnAWtqAN9-PnkD1pEfsgpj-NKl3j9t9WCpVqdFU95jsnM72WBw0/file\n",
            "Reusing existing connection to uc87052d18b89adf8951d373ff18.dl.dropboxusercontent.com:443.\n",
            "HTTP request sent, awaiting response... 200 OK\n",
            "Length: 140830621 (134M) [application/zip]\n",
            "Saving to: ‘covid_19’\n",
            "\n",
            "covid_19            100%[===================>] 134.31M  22.6MB/s    in 6.1s    \n",
            "\n",
            "2021-06-11 12:31:03 (21.9 MB/s) - ‘covid_19’ saved [140830621/140830621]\n",
            "\n"
          ],
          "name": "stdout"
        }
      ]
    },
    {
      "cell_type": "code",
      "metadata": {
        "id": "7FPSlY63qFJ6",
        "colab": {
          "base_uri": "https://localhost:8080/"
        },
        "outputId": "918ca8b1-d01d-4230-cf9e-c53faf4eb51a"
      },
      "source": [
        "!unzip covid_19"
      ],
      "execution_count": 2,
      "outputs": [
        {
          "output_type": "stream",
          "text": [
            "Archive:  covid_19\n",
            "  inflating: CovidDataset/Val/Covid/88de9d8c39e946abd495b37cd07d89e5-6531-0.jpg  \n",
            "  inflating: CovidDataset/Val/Covid/covid-19-pneumonia-8.jpg  \n",
            "  inflating: CovidDataset/Val/Covid/85E52EB3-56E9-4D67-82DA-DEA247C82886.jpeg  \n",
            "  inflating: CovidDataset/Val/Covid/4-x-day1.jpg  \n",
            "  inflating: CovidDataset/Val/Covid/covid-19-pneumonia-53.jpg  \n",
            "  inflating: CovidDataset/Val/Covid/4e43e48d52c9e2d4c6c1fb9bc1544f_jumbo.jpeg  \n",
            "  inflating: CovidDataset/Val/Covid/covid-19-pneumonia-35-1.jpg  \n",
            "  inflating: CovidDataset/Val/Covid/53EC07C9-5CC6-4BE4-9B6F-D7B0D72AAA7E.jpeg  \n",
            "  inflating: CovidDataset/Val/Covid/6CB4EFC6-68FA-4CD5-940C-BEFA8DAFE9A7.jpeg  \n",
            "  inflating: CovidDataset/Val/Covid/58cb9263f16e94305c730685358e4e_jumbo.jpeg  \n",
            "  inflating: CovidDataset/Val/Covid/6b3bdbc31f65230b8cdcc3cef5f8ba8a-40ac-0.jpg  \n",
            "  inflating: CovidDataset/Val/Covid/auntminnie-d-2020_01_28_23_51_6665_2020_01_28_Vietnam_coronavirus.jpeg  \n",
            "  inflating: CovidDataset/Val/Covid/6b44464d-73a7-4cf3-bbb6-ffe7168300e3.annot.original.jpeg  \n",
            "  inflating: CovidDataset/Val/Covid/88de9d8c39e946abd495b37cd07d89e5-2ee6-0.jpg  \n",
            "  inflating: CovidDataset/Val/Covid/31BA3780-2323-493F-8AED-62081B9C383B.jpeg  \n",
            "  inflating: CovidDataset/Val/Covid/B2D20576-00B7-4519-A415-72DE29C90C34.jpeg  \n",
            "  inflating: CovidDataset/Val/Covid/6C94A287-C059-46A0-8600-AFB95F4727B7.jpeg  \n",
            "  inflating: CovidDataset/Train/Covid/1-s2.0-S1684118220300682-main.pdf-003-b2.png  \n",
            "  inflating: CovidDataset/Val/Covid/41591_2020_819_Fig1_HTML.webp-day5.png  \n",
            "  inflating: CovidDataset/Val/Covid/41591_2020_819_Fig1_HTML.webp-day10.png  \n",
            "  inflating: CovidDataset/Train/Covid/1-s2.0-S1684118220300682-main.pdf-003-b1.png  \n",
            "  inflating: CovidDataset/Val/Covid/16654_2_1.jpg  \n",
            "  inflating: CovidDataset/Train/Covid/nCoV-radiol.2020200269.fig1-day7.jpeg  \n",
            "  inflating: CovidDataset/Val/Covid/auntminnie-c-2020_01_28_23_51_6665_2020_01_28_Vietnam_coronavirus.jpeg  \n",
            "  inflating: CovidDataset/Train/Covid/7-fatal-covid19.jpg  \n",
            "  inflating: CovidDataset/Train/Covid/auntminnie-b-2020_01_28_23_51_6665_2020_01_28_Vietnam_coronavirus.jpeg  \n",
            "  inflating: CovidDataset/Train/Normal/NORMAL2-IM-0986-0001.jpeg  \n",
            "  inflating: CovidDataset/Train/Normal/IM-0332-0001.jpeg  \n",
            "  inflating: CovidDataset/Train/Covid/extubation-13.jpg  \n",
            "  inflating: CovidDataset/Val/Covid/covid-19-pneumonia-35-2.jpg  \n",
            "  inflating: CovidDataset/Train/Normal/NORMAL2-IM-1337-0001.jpeg  \n",
            "  inflating: CovidDataset/Val/Covid/covid-19-pneumonia-12.jpg  \n",
            "  inflating: CovidDataset/Train/Normal/IM-0644-0001-0002.jpeg  \n",
            "  inflating: CovidDataset/Train/Covid/ryct.2020200034.fig5-day7.jpeg  \n",
            "  inflating: CovidDataset/Val/Covid/7AF6C1AF-D249-4BD2-8C26-449304105D03.jpeg  \n",
            "  inflating: CovidDataset/Train/Covid/covid-19-pneumonia-15-PA.jpg  \n",
            "  inflating: CovidDataset/Train/Covid/1-s2.0-S1684118220300608-main.pdf-002.jpg  \n",
            "  inflating: CovidDataset/Train/Normal/IM-0528-0001.jpeg  \n",
            "  inflating: CovidDataset/Train/Covid/80446565-E090-4187-A031-9D3CEAA586C8.jpeg  \n",
            "  inflating: CovidDataset/Train/Covid/1-s2.0-S0929664620300449-gr2_lrg-d.jpg  \n",
            "  inflating: CovidDataset/Train/Covid/covid-19-pneumonia-bilateral.jpg  \n",
            "  inflating: CovidDataset/Train/Normal/NORMAL2-IM-1020-0001-0001.jpeg  \n",
            "  inflating: CovidDataset/Train/Covid/E63574A7-4188-4C8D-8D17-9D67A18A1AFA.jpeg  \n",
            "  inflating: CovidDataset/Train/Normal/IM-0327-0001.jpeg  \n",
            "  inflating: CovidDataset/Train/Covid/AR-1.jpg  \n",
            "  inflating: CovidDataset/Train/Covid/F2DE909F-E19C-4900-92F5-8F435B031AC6.jpeg  \n",
            "  inflating: CovidDataset/Val/Normal/NORMAL2-IM-0851-0001.jpeg  \n",
            "  inflating: CovidDataset/Train/Covid/covid-19-pneumonia-2.jpg  \n",
            "  inflating: CovidDataset/Train/Normal/IM-0539-0001.jpeg  \n",
            "  inflating: CovidDataset/Train/Normal/IM-0495-0001.jpeg  \n",
            "  inflating: CovidDataset/Train/Normal/IM-0533-0001-0002.jpeg  \n",
            "  inflating: CovidDataset/Train/Normal/IM-0724-0001.jpeg  \n",
            "  inflating: CovidDataset/Train/Covid/1.CXRCTThoraximagesofCOVID-19fromSingapore.pdf-001-fig2a.png  \n",
            "  inflating: CovidDataset/Train/Covid/1-s2.0-S0140673620303706-fx1_lrg.jpg  \n",
            "  inflating: CovidDataset/Train/Normal/IM-0491-0001-0002.jpeg  \n",
            "  inflating: CovidDataset/Train/Covid/covid-19-pneumonia-58-day-9.jpg  \n",
            "  inflating: CovidDataset/Train/Normal/IM-0555-0001.jpeg  \n",
            "  inflating: CovidDataset/Train/Covid/1.CXRCTThoraximagesofCOVID-19fromSingapore.pdf-000-fig1b.png  \n",
            "  inflating: CovidDataset/Train/Normal/IM-0326-0001.jpeg  \n",
            "  inflating: CovidDataset/Train/Covid/covid-19-caso-70-1-PA.jpg  \n",
            "  inflating: CovidDataset/Train/Covid/1.CXRCTThoraximagesofCOVID-19fromSingapore.pdf-001-fig2b.png  \n",
            "  inflating: CovidDataset/Val/Normal/NORMAL2-IM-0730-0001.jpeg  \n",
            "  inflating: CovidDataset/Train/Normal/IM-0451-0001.jpeg  \n",
            "  inflating: CovidDataset/Val/Covid/7C69C012-7479-493F-8722-ABC29C60A2DD.jpeg  \n",
            "  inflating: CovidDataset/Train/Covid/16660_2_1.jpg  \n",
            "  inflating: CovidDataset/Train/Covid/1-s2.0-S1684118220300608-main.pdf-001.jpg  \n",
            "  inflating: CovidDataset/Train/Covid/kjr-21-e24-g003-l-a.jpg  \n",
            "  inflating: CovidDataset/Train/Covid/nejmoa2001191_f1-PA.jpeg  \n",
            "  inflating: CovidDataset/Train/Normal/IM-0534-0001.jpeg  \n",
            "  inflating: CovidDataset/Train/Covid/kjr-21-e24-g002-l-a.jpg  \n",
            "  inflating: CovidDataset/Train/Covid/covid-19-pneumonia-38-pa.jpg  \n",
            "  inflating: CovidDataset/Train/Normal/NORMAL2-IM-0529-0001.jpeg  \n",
            "  inflating: CovidDataset/Train/Covid/9C34AF49-E589-44D5-92D3-168B3B04E4A6.jpeg  \n",
            "  inflating: CovidDataset/Train/Normal/IM-0221-0001.jpeg  \n",
            "  inflating: CovidDataset/Val/Normal/NORMAL2-IM-1191-0001.jpeg  \n",
            "  inflating: CovidDataset/Train/Normal/NORMAL2-IM-0831-0001.jpeg  \n",
            "  inflating: CovidDataset/Train/Normal/IM-0500-0001.jpeg  \n",
            "  inflating: CovidDataset/Val/Normal/NORMAL2-IM-1228-0001.jpeg  \n",
            "  inflating: CovidDataset/Train/Covid/extubation-1.jpg  \n",
            "  inflating: CovidDataset/Train/Covid/covid-19-infection-exclusive-gastrointestinal-symptoms-l.png  \n",
            "  inflating: CovidDataset/Val/Normal/NORMAL2-IM-1037-0001.jpeg  \n",
            "  inflating: CovidDataset/Train/Normal/NORMAL2-IM-0956-0001.jpeg  \n",
            "  inflating: CovidDataset/Train/Normal/NORMAL2-IM-0847-0001.jpeg  \n",
            "  inflating: CovidDataset/Train/Normal/IM-0389-0001.jpeg  \n",
            "  inflating: CovidDataset/Train/Normal/IM-0660-0001-0001.jpeg  \n",
            "  inflating: CovidDataset/Train/Covid/16672_1_1.jpg  \n",
            "  inflating: CovidDataset/Train/Normal/IM-0700-0001.jpeg  \n",
            "  inflating: CovidDataset/Train/Normal/NORMAL2-IM-1305-0001.jpeg  \n",
            "  inflating: CovidDataset/Train/Covid/16660_4_1.jpg  \n",
            "  inflating: CovidDataset/Val/Covid/353889E0-A1E8-4F9E-A0B8-F24F36BCFBFB.jpeg  \n",
            "  inflating: CovidDataset/Train/Covid/covid-19-pneumonia-22-day2-pa.png  \n",
            "  inflating: CovidDataset/Train/Normal/IM-0472-0001.jpeg  \n",
            "  inflating: CovidDataset/Train/Normal/NORMAL2-IM-1202-0001.jpeg  \n",
            "  inflating: CovidDataset/Train/Normal/NORMAL2-IM-1188-0001.jpeg  \n",
            "  inflating: CovidDataset/Train/Covid/2C26F453-AF3B-4517-BB9E-802CF2179543.jpeg  \n",
            "  inflating: CovidDataset/Train/Normal/NORMAL2-IM-1290-0001.jpeg  \n",
            "  inflating: CovidDataset/Train/Normal/NORMAL2-IM-1346-0001.jpeg  \n",
            "  inflating: CovidDataset/Train/Normal/NORMAL2-IM-1345-0001-0001.jpeg  \n",
            "  inflating: CovidDataset/Train/Covid/radiol.2020200274.fig3d.png  \n",
            "  inflating: CovidDataset/Train/Normal/IM-0669-0001.jpeg  \n",
            "  inflating: CovidDataset/Train/Normal/IM-0270-0001.jpeg  \n",
            "  inflating: CovidDataset/Train/Covid/covid-19-pneumonia-28.png  \n",
            "  inflating: CovidDataset/Train/Covid/ryct.2020200034.fig2.jpeg  \n",
            "  inflating: CovidDataset/Train/Normal/NORMAL2-IM-1287-0001.jpeg  \n",
            "  inflating: CovidDataset/Train/Covid/1.CXRCTThoraximagesofCOVID-19fromSingapore.pdf-000-fig1a.png  \n",
            "  inflating: CovidDataset/Train/Normal/NORMAL2-IM-0626-0001.jpeg  \n",
            "  inflating: CovidDataset/Train/Normal/IM-0543-0001.jpeg  \n",
            "  inflating: CovidDataset/Val/Normal/NORMAL2-IM-0857-0001.jpeg  \n",
            "  inflating: CovidDataset/Val/Normal/NORMAL2-IM-0905-0001.jpeg  \n",
            "  inflating: CovidDataset/Train/Covid/1-s2.0-S0929664620300449-gr2_lrg-a.jpg  \n",
            "  inflating: CovidDataset/Val/Covid/16654_1_1.png  \n",
            "  inflating: CovidDataset/Train/Covid/kjr-21-e24-g001-l-a.jpg  \n",
            "  inflating: CovidDataset/Train/Normal/IM-0433-0001.jpeg  \n",
            "  inflating: CovidDataset/Train/Covid/covid-19-pneumonia-58-day-10.jpg  \n",
            "  inflating: CovidDataset/Val/Covid/16654_4_1.jpg  \n",
            "  inflating: CovidDataset/Val/Normal/NORMAL2-IM-0790-0001.jpeg  \n",
            "  inflating: CovidDataset/Train/Normal/NORMAL2-IM-1326-0001.jpeg  \n",
            "  inflating: CovidDataset/Train/Normal/IM-0563-0001.jpeg  \n",
            "  inflating: CovidDataset/Train/Covid/ae6c954c0039de4b5edee53865ffee43-e6c8-0.jpg  \n",
            "  inflating: CovidDataset/Val/Covid/23E99E2E-447C-46E5-8EB2-D35D12473C39.png  \n",
            "  inflating: CovidDataset/Train/Covid/gr1_lrg-a.jpg  \n",
            "  inflating: CovidDataset/Train/Normal/IM-0564-0001.jpeg  \n",
            "  inflating: CovidDataset/Train/Normal/NORMAL2-IM-0499-0001.jpeg  \n",
            "  inflating: CovidDataset/Train/Covid/16663_1_1.jpg  \n",
            "  inflating: CovidDataset/Train/Covid/extubation-8.jpg  \n",
            "  inflating: CovidDataset/Train/Covid/paving.jpg  \n",
            "  inflating: CovidDataset/Train/Normal/IM-0529-0001.jpeg  \n",
            "  inflating: CovidDataset/Train/Normal/IM-0425-0001.jpeg  \n",
            "  inflating: CovidDataset/Train/Normal/IM-0439-0001.jpeg  \n",
            "  inflating: CovidDataset/Train/Normal/IM-0491-0001.jpeg  \n",
            "  inflating: CovidDataset/Train/Normal/IM-0337-0001.jpeg  \n",
            "  inflating: CovidDataset/Train/Covid/all14238-fig-0001-m-b.jpg  \n",
            "  inflating: CovidDataset/Train/Covid/covid-19-infection-exclusive-gastrointestinal-symptoms-pa.png  \n",
            "  inflating: CovidDataset/Train/Normal/NORMAL2-IM-1320-0001.jpeg  \n",
            "  inflating: CovidDataset/Train/Covid/1.CXRCTThoraximagesofCOVID-19fromSingapore.pdf-002-fig3b.png  \n",
            "  inflating: CovidDataset/Train/Normal/NORMAL2-IM-0815-0001.jpeg  \n",
            "  inflating: CovidDataset/Train/Covid/nejmoa2001191_f5-PA.jpeg  \n",
            "  inflating: CovidDataset/Train/Normal/NORMAL2-IM-1336-0001.jpeg  \n",
            "  inflating: CovidDataset/Train/Normal/IM-0369-0001.jpeg  \n",
            "  inflating: CovidDataset/Train/Normal/NORMAL2-IM-1300-0001.jpeg  \n",
            "  inflating: CovidDataset/Train/Normal/NORMAL2-IM-1295-0001.jpeg  \n",
            "  inflating: CovidDataset/Train/Normal/NORMAL2-IM-0518-0001.jpeg  \n",
            "  inflating: CovidDataset/Train/Covid/covid-19-pneumonia-34.png  \n",
            "  inflating: CovidDataset/Train/Normal/IM-0385-0001.jpeg  \n",
            "  inflating: CovidDataset/Train/Covid/F63AB6CE-1968-4154-A70F-913AF154F53D.jpeg  \n",
            "  inflating: CovidDataset/Val/Normal/NORMAL2-IM-0842-0001.jpeg  \n",
            "  inflating: CovidDataset/Val/Normal/NORMAL2-IM-0416-0001-0001.jpeg  \n",
            "  inflating: CovidDataset/Val/Normal/NORMAL2-IM-1275-0001.jpeg  \n",
            "  inflating: CovidDataset/Train/Normal/IM-0467-0001.jpeg  \n",
            "  inflating: CovidDataset/Train/Normal/NORMAL2-IM-1344-0001.jpeg  \n",
            "  inflating: CovidDataset/Train/Normal/IM-0301-0001.jpeg  \n",
            "  inflating: CovidDataset/Train/Normal/IM-0421-0001.jpeg  \n",
            "  inflating: CovidDataset/Train/Covid/ryct.2020200034.fig5-day0.jpeg  \n",
            "  inflating: CovidDataset/Train/Covid/covid-19-pneumonia-58-day-3.jpg  \n",
            "  inflating: CovidDataset/Train/Covid/covid-19-pneumonia-mild.JPG  \n",
            "  inflating: CovidDataset/Val/Normal/NORMAL2-IM-0859-0001.jpeg  \n",
            "  inflating: CovidDataset/Val/Normal/NORMAL2-IM-1237-0001.jpeg  \n",
            "  inflating: CovidDataset/Train/Normal/NORMAL2-IM-1103-0001-0001.jpeg  \n",
            "  inflating: CovidDataset/Train/Covid/1-s2.0-S1684118220300682-main.pdf-002-a2.png  \n",
            "  inflating: CovidDataset/Val/Normal/NORMAL2-IM-0535-0001-0002.jpeg  \n",
            "  inflating: CovidDataset/Train/Covid/1.CXRCTThoraximagesofCOVID-19fromSingapore.pdf-003-fig4b.png  \n",
            "  inflating: CovidDataset/Train/Normal/IM-0461-0001.jpeg  \n",
            "  inflating: CovidDataset/Train/Normal/IM-0372-0001.jpeg  \n",
            "  inflating: CovidDataset/Train/Normal/IM-0666-0001-0001.jpeg  \n",
            "  inflating: CovidDataset/Train/Normal/NORMAL2-IM-0840-0001.jpeg  \n",
            "  inflating: CovidDataset/Train/Covid/ryct.2020200034.fig5-day4.jpeg  \n",
            "  inflating: CovidDataset/Train/Normal/NORMAL2-IM-0798-0001.jpeg  \n",
            "  inflating: CovidDataset/Train/Normal/IM-0351-0001.jpeg  \n",
            "  inflating: CovidDataset/Train/Covid/auntminnie-a-2020_01_28_23_51_6665_2020_01_28_Vietnam_coronavirus.jpeg  \n",
            "  inflating: CovidDataset/Train/Covid/1-s2.0-S1684118220300682-main.pdf-002-a1.png  \n",
            "  inflating: CovidDataset/Val/Normal/NORMAL2-IM-1240-0001.jpeg  \n",
            "  inflating: CovidDataset/Train/Covid/93FE0BB1-022D-4F24-9727-987A07975FFB.jpeg  \n",
            "  inflating: CovidDataset/Train/Covid/16660_1_1.jpg  \n",
            "  inflating: CovidDataset/Train/Covid/figure1-5e71be566aa8714a04de3386-98-left.jpeg  \n",
            "  inflating: CovidDataset/Train/Normal/IM-0703-0001.jpeg  \n",
            "  inflating: CovidDataset/Train/Covid/covid-19-pneumonia-7-PA.jpg  \n",
            "  inflating: CovidDataset/Train/Normal/NORMAL2-IM-1277-0001-0002.jpeg  \n",
            "  inflating: CovidDataset/Train/Covid/8FDE8DBA-CFBD-4B4C-B1A4-6F36A93B7E87.jpeg  \n",
            "  inflating: CovidDataset/Train/Normal/IM-0482-0001.jpeg  \n",
            "  inflating: CovidDataset/Train/Normal/IM-0656-0001-0002.jpeg  \n",
            "  inflating: CovidDataset/Train/Covid/16664_1_1.jpg  \n",
            "  inflating: CovidDataset/Train/Normal/IM-0430-0001.jpeg  \n",
            "  inflating: CovidDataset/Train/Covid/covid-19-pneumonia-67.jpeg  \n",
            "  inflating: CovidDataset/Train/Covid/ciaa199.pdf-001-a.png  \n",
            "  inflating: CovidDataset/Train/Normal/IM-0187-0001.jpeg  \n",
            "  inflating: CovidDataset/Val/Normal/NORMAL2-IM-0652-0001.jpeg  \n",
            "  inflating: CovidDataset/Train/Normal/IM-0691-0001.jpeg  \n",
            "  inflating: CovidDataset/Train/Covid/CD50BA96-6982-4C80-AE7B-5F67ACDBFA56.jpeg  \n",
            "  inflating: CovidDataset/Train/Normal/NORMAL2-IM-0976-0001.jpeg  \n",
            "  inflating: CovidDataset/Train/Covid/covid-19-pneumonia-20-pa-on-admission.jpg  \n",
            "  inflating: CovidDataset/Train/Covid/1-s2.0-S0929664620300449-gr2_lrg-c.jpg  \n",
            "  inflating: CovidDataset/Train/Covid/fff49165-b22d-4bb4-b9d1-d5d62c52436c.annot.original.png  \n",
            "  inflating: CovidDataset/Train/Covid/1.CXRCTThoraximagesofCOVID-19fromSingapore.pdf-002-fig3a.png  \n",
            "  inflating: CovidDataset/Val/Normal/NORMAL2-IM-0395-0001.jpeg  \n",
            "  inflating: CovidDataset/Train/Normal/IM-0182-0001.jpeg  \n",
            "  inflating: CovidDataset/Train/Covid/covid-19-pneumonia-evolution-over-a-week-1-day0-PA.jpg  \n",
            "  inflating: CovidDataset/Val/Normal/NORMAL2-IM-0914-0001.jpeg  \n",
            "  inflating: CovidDataset/Train/Covid/covid-19-pneumonia-30-PA.jpg  \n",
            "  inflating: CovidDataset/Train/Covid/nejmc2001573_f1a.jpeg  \n",
            "  inflating: CovidDataset/Train/Covid/kjr-21-e25-g001-l-a.jpg  \n",
            "  inflating: CovidDataset/Val/Normal/NORMAL2-IM-0873-0001.jpeg  \n",
            "  inflating: CovidDataset/Train/Normal/NORMAL2-IM-0501-0001.jpeg  \n",
            "  inflating: CovidDataset/Train/Normal/IM-0667-0001.jpeg  \n",
            "  inflating: CovidDataset/Train/Normal/IM-0551-0001-0002.jpeg  \n",
            "  inflating: CovidDataset/Train/Normal/IM-0176-0001.jpeg  \n",
            "  inflating: CovidDataset/Train/Covid/lancet-case2b.jpg  \n",
            "  inflating: CovidDataset/Train/Normal/IM-0713-0001.jpeg  \n",
            "  inflating: CovidDataset/Train/Covid/all14238-fig-0001-m-c.jpg  \n",
            "  inflating: CovidDataset/Val/Covid/covid-19-pneumonia-14-PA.png  \n",
            "  inflating: CovidDataset/Val/Normal/NORMAL2-IM-0851-0001-0001.jpeg  \n",
            "  inflating: CovidDataset/Train/Normal/NORMAL2-IM-1154-0001-0002.jpeg  \n",
            "  inflating: CovidDataset/Train/Normal/IM-0619-0001.jpeg  \n",
            "  inflating: CovidDataset/Val/Normal/NORMAL2-IM-0441-0001.jpeg  \n",
            "  inflating: CovidDataset/Val/Normal/NORMAL2-IM-0765-0001.jpeg  \n",
            "  inflating: CovidDataset/Train/Normal/IM-0172-0001.jpeg  \n",
            "  inflating: CovidDataset/Train/Normal/IM-0551-0001-0001.jpeg  \n",
            "  inflating: CovidDataset/Train/Covid/gr1_lrg-b.jpg  \n",
            "  inflating: CovidDataset/Train/Covid/1-s2.0-S0929664620300449-gr2_lrg-b.jpg  \n",
            "  inflating: CovidDataset/Train/Normal/IM-0514-0001.jpeg  \n",
            "  inflating: CovidDataset/Train/Covid/covid-19-pneumonia-20.jpg  \n",
            "  inflating: CovidDataset/Train/Normal/IM-0544-0001.jpeg  \n",
            "  inflating: CovidDataset/Val/Normal/NORMAL2-IM-1022-0001.jpeg  \n",
            "  inflating: CovidDataset/Train/Normal/NORMAL2-IM-0935-0001.jpeg  \n",
            "  inflating: CovidDataset/Train/Covid/covid-19-pneumonia-22-day1-pa.png  \n",
            "  inflating: CovidDataset/Train/Normal/NORMAL2-IM-1288-0001.jpeg  \n",
            "  inflating: CovidDataset/Train/Covid/16669_1_1.jpeg  \n",
            "  inflating: CovidDataset/Train/Covid/nejmoa2001191_f4.jpeg  \n",
            "  inflating: CovidDataset/Val/Normal/NORMAL2-IM-0462-0001.jpeg  \n",
            "  inflating: CovidDataset/Val/Normal/NORMAL2-IM-0894-0001.jpeg  \n",
            "  inflating: CovidDataset/Train/Covid/nejmc2001573_f1b.jpeg  \n",
            "  inflating: CovidDataset/Train/Normal/NORMAL2-IM-1094-0001-0001.jpeg  \n",
            "  inflating: CovidDataset/Train/Normal/IM-0543-0001-0002.jpeg  \n",
            "  inflating: CovidDataset/Train/Covid/16669_3_1.jpeg  \n",
            "  inflating: CovidDataset/Train/Covid/covid-19-pneumonia-58-day-7.jpg  \n",
            "  inflating: CovidDataset/Train/Normal/IM-0536-0001.jpeg  \n",
            "  inflating: CovidDataset/Train/Normal/NORMAL2-IM-1214-0001.jpeg  \n",
            "  inflating: CovidDataset/Train/Covid/AR-2.jpg  \n",
            "  inflating: CovidDataset/Train/Covid/9fdd3c3032296fd04d2cad5d9070d4_jumbo.jpeg  \n",
            "  inflating: CovidDataset/Train/Covid/1B734A89-A1BF-49A8-A1D3-66FAFA4FAC5D.jpeg  \n",
            "  inflating: CovidDataset/Train/Normal/IM-0156-0001.jpeg  \n",
            "  inflating: CovidDataset/Train/Normal/NORMAL2-IM-1111-0001.jpeg  \n",
            "  inflating: CovidDataset/Train/Covid/FE9F9A5D-2830-46F9-851B-1FF4534959BE.jpeg  \n",
            "  inflating: CovidDataset/Train/Normal/IM-0429-0001.jpeg  \n",
            "  inflating: CovidDataset/Train/Covid/covid-19-pneumonia-44-day-0.jpeg  \n",
            "  inflating: CovidDataset/Val/Normal/NORMAL2-IM-0869-0001.jpeg  \n",
            "  inflating: CovidDataset/Train/Covid/figure1-5e75d0940b71e1b702629659-98-right.jpeg  \n",
            "  inflating: CovidDataset/Train/Covid/03BF7561-A9BA-4C3C-B8A0-D3E585F73F3C.jpeg  \n",
            "  inflating: CovidDataset/Train/Covid/ciaa199.pdf-001-c.png  \n",
            "  inflating: CovidDataset/Train/Covid/extubation-4.jpg  \n",
            "  inflating: CovidDataset/Train/Normal/IM-0556-0001.jpeg  \n",
            "  inflating: CovidDataset/Train/Covid/1.CXRCTThoraximagesofCOVID-19fromSingapore.pdf-003-fig4a.png  \n",
            "  inflating: CovidDataset/Train/Covid/covid-19-pneumonia-19.jpg  \n",
            "  inflating: CovidDataset/Train/Normal/IM-0392-0001.jpeg  \n",
            "  inflating: CovidDataset/Train/Normal/IM-0530-0001.jpeg  \n",
            "  inflating: CovidDataset/Train/Normal/IM-0261-0001.jpeg  \n",
            "  inflating: CovidDataset/Train/Covid/1312A392-67A3-4EBF-9319-810CF6DA5EF6.jpeg  \n",
            "  inflating: CovidDataset/Train/Normal/IM-0525-0001.jpeg  \n",
            "  inflating: CovidDataset/Train/Covid/lancet-case2a.jpg  \n",
            "  inflating: CovidDataset/Train/Covid/ciaa199.pdf-001-b.png  \n",
            "  inflating: CovidDataset/Train/Normal/NORMAL2-IM-0941-0001.jpeg  \n",
            "  inflating: CovidDataset/Train/Normal/IM-0488-0001.jpeg  \n",
            "  inflating: CovidDataset/Train/Covid/nejmoa2001191_f3-PA.jpeg  \n",
            "  inflating: CovidDataset/Train/Normal/IM-0447-0001.jpeg  \n",
            "  inflating: CovidDataset/Train/Covid/2966893D-5DDF-4B68-9E2B-4979D5956C8E.jpeg  \n",
            "  inflating: CovidDataset/Train/Covid/ryct.2020200028.fig1a.jpeg  \n",
            "  inflating: CovidDataset/Train/Normal/IM-0688-0001.jpeg  \n",
            "  inflating: CovidDataset/Train/Covid/16660_3_1.jpg  \n",
            "  inflating: CovidDataset/Val/Normal/NORMAL2-IM-1045-0001.jpeg  \n",
            "  inflating: CovidDataset/Train/Normal/NORMAL2-IM-0978-0001.jpeg  \n",
            "  inflating: CovidDataset/Train/Covid/2-chest-filmc.jpg  \n",
            "  inflating: CovidDataset/Val/Normal/NORMAL2-IM-0678-0001.jpeg  \n",
            "  inflating: CovidDataset/Train/Normal/NORMAL2-IM-0573-0001.jpeg  \n",
            "  inflating: CovidDataset/Train/Normal/IM-0365-0001.jpeg  \n",
            "  inflating: CovidDataset/Train/Normal/IM-0300-0001.jpeg  \n",
            "  inflating: CovidDataset/Train/Normal/IM-0242-0001.jpeg  \n",
            "  inflating: CovidDataset/Train/Covid/F4341CE7-73C9-45C6-99C8-8567A5484B63.jpeg  \n",
            "  inflating: CovidDataset/Train/Normal/NORMAL2-IM-1019-0001.jpeg  \n",
            "  inflating: CovidDataset/Train/Covid/01E392EE-69F9-4E33-BFCE-E5C968654078.jpeg  \n",
            "  inflating: CovidDataset/Train/Normal/IM-0648-0001.jpeg  \n",
            "  inflating: CovidDataset/Val/Normal/NORMAL2-IM-0408-0001.jpeg  \n",
            "  inflating: CovidDataset/Train/Covid/yxppt-2020-02-19_00-51-27_287214-day8.jpg  \n",
            "  inflating: CovidDataset/Train/Normal/IM-0635-0001.jpeg  \n",
            "  inflating: CovidDataset/Train/Covid/radiol.2020200490.fig3.jpeg  \n",
            "  inflating: CovidDataset/Val/Normal/NORMAL2-IM-1060-0001.jpeg  \n"
          ],
          "name": "stdout"
        }
      ]
    },
    {
      "cell_type": "code",
      "metadata": {
        "id": "klZeEzJSqUvQ"
      },
      "source": [
        "TRAIN_PATH = \"CovidDataset/Train\"\n",
        "VAL_PATH = \"CovidDataset/Test\"\n",
        "\n"
      ],
      "execution_count": 3,
      "outputs": []
    },
    {
      "cell_type": "code",
      "metadata": {
        "id": "1s_VfacWrA-E"
      },
      "source": [
        "import numpy as np\n",
        "import matplotlib.pyplot as plt\n",
        "import keras\n",
        "from keras.layers import *\n",
        "from keras.models import * \n",
        "from keras.preprocessing import image"
      ],
      "execution_count": 4,
      "outputs": []
    },
    {
      "cell_type": "code",
      "metadata": {
        "id": "2vRL0YMtrIsn"
      },
      "source": [
        "# CNN Based Model in Keras\n",
        "\n",
        "model = Sequential()\n",
        "model.add(Conv2D(32,kernel_size=(3,3),activation='relu',input_shape=(224,224,3)))\n",
        "model.add(Conv2D(64,(3,3),activation='relu'))\n",
        "model.add(MaxPooling2D(pool_size=(2,2)))\n",
        "model.add(Dropout(0.25))\n",
        "\n",
        "model.add(Conv2D(64,(3,3),activation='relu'))\n",
        "model.add(MaxPooling2D(pool_size=(2,2)))\n",
        "model.add(Dropout(0.25))\n",
        "\n",
        "model.add(Conv2D(128,(3,3),activation='relu'))\n",
        "model.add(MaxPooling2D(pool_size=(2,2)))\n",
        "model.add(Dropout(0.25))\n",
        "\n",
        "model.add(Flatten())\n",
        "model.add(Dense(64,activation='relu'))\n",
        "model.add(Dropout(0.5))\n",
        "model.add(Dense(1,activation='sigmoid'))\n",
        "\n",
        "model.compile(loss=keras.losses.binary_crossentropy,optimizer='adam',metrics=['accuracy'])"
      ],
      "execution_count": 5,
      "outputs": []
    },
    {
      "cell_type": "code",
      "metadata": {
        "id": "gNxzu23Ouxcp",
        "colab": {
          "base_uri": "https://localhost:8080/"
        },
        "outputId": "ddec0305-c4e6-4a00-abd1-1eb56c45aae0"
      },
      "source": [
        "model.summary()"
      ],
      "execution_count": 6,
      "outputs": [
        {
          "output_type": "stream",
          "text": [
            "Model: \"sequential\"\n",
            "_________________________________________________________________\n",
            "Layer (type)                 Output Shape              Param #   \n",
            "=================================================================\n",
            "conv2d (Conv2D)              (None, 222, 222, 32)      896       \n",
            "_________________________________________________________________\n",
            "conv2d_1 (Conv2D)            (None, 220, 220, 64)      18496     \n",
            "_________________________________________________________________\n",
            "max_pooling2d (MaxPooling2D) (None, 110, 110, 64)      0         \n",
            "_________________________________________________________________\n",
            "dropout (Dropout)            (None, 110, 110, 64)      0         \n",
            "_________________________________________________________________\n",
            "conv2d_2 (Conv2D)            (None, 108, 108, 64)      36928     \n",
            "_________________________________________________________________\n",
            "max_pooling2d_1 (MaxPooling2 (None, 54, 54, 64)        0         \n",
            "_________________________________________________________________\n",
            "dropout_1 (Dropout)          (None, 54, 54, 64)        0         \n",
            "_________________________________________________________________\n",
            "conv2d_3 (Conv2D)            (None, 52, 52, 128)       73856     \n",
            "_________________________________________________________________\n",
            "max_pooling2d_2 (MaxPooling2 (None, 26, 26, 128)       0         \n",
            "_________________________________________________________________\n",
            "dropout_2 (Dropout)          (None, 26, 26, 128)       0         \n",
            "_________________________________________________________________\n",
            "flatten (Flatten)            (None, 86528)             0         \n",
            "_________________________________________________________________\n",
            "dense (Dense)                (None, 64)                5537856   \n",
            "_________________________________________________________________\n",
            "dropout_3 (Dropout)          (None, 64)                0         \n",
            "_________________________________________________________________\n",
            "dense_1 (Dense)              (None, 1)                 65        \n",
            "=================================================================\n",
            "Total params: 5,668,097\n",
            "Trainable params: 5,668,097\n",
            "Non-trainable params: 0\n",
            "_________________________________________________________________\n"
          ],
          "name": "stdout"
        }
      ]
    },
    {
      "cell_type": "code",
      "metadata": {
        "id": "2nnojiosu2YM"
      },
      "source": [
        "# Train from scratch\n",
        "train_datagen = image.ImageDataGenerator(\n",
        "    rescale = 1./255,\n",
        "    shear_range = 0.2,\n",
        "    zoom_range = 0.2,\n",
        "    horizontal_flip = True,\n",
        ")\n",
        "\n",
        "test_dataset = image.ImageDataGenerator(rescale=1./255)"
      ],
      "execution_count": 12,
      "outputs": []
    },
    {
      "cell_type": "code",
      "metadata": {
        "id": "iLC3vWiHv2s8",
        "colab": {
          "base_uri": "https://localhost:8080/"
        },
        "outputId": "6b87eec5-b56f-4b58-ef8b-f86b52afe62d"
      },
      "source": [
        "\n",
        "train_generator = train_datagen.flow_from_directory(\n",
        "    'CovidDataset/Train',\n",
        "    target_size = (224,224),\n",
        "    batch_size = 24,\n",
        "    class_mode = 'binary')\n"
      ],
      "execution_count": 26,
      "outputs": [
        {
          "output_type": "stream",
          "text": [
            "Found 224 images belonging to 2 classes.\n"
          ],
          "name": "stdout"
        }
      ]
    },
    {
      "cell_type": "code",
      "metadata": {
        "id": "q_ov9LTgwQSg",
        "colab": {
          "base_uri": "https://localhost:8080/"
        },
        "outputId": "bfcc9886-4dcd-4b1a-b9cb-d7ee13e9c35a"
      },
      "source": [
        "train_generator.class_indices"
      ],
      "execution_count": 14,
      "outputs": [
        {
          "output_type": "execute_result",
          "data": {
            "text/plain": [
              "{'Covid': 0, 'Normal': 1}"
            ]
          },
          "metadata": {
            "tags": []
          },
          "execution_count": 14
        }
      ]
    },
    {
      "cell_type": "code",
      "metadata": {
        "id": "0RQ5LeuQwmxj",
        "colab": {
          "base_uri": "https://localhost:8080/"
        },
        "outputId": "4cc5c3dd-2731-40a5-a6c2-1f20714d9afc"
      },
      "source": [
        "validation_generator = test_dataset.flow_from_directory(\n",
        "    'CovidDataset/Val',\n",
        "    target_size = (224,224),\n",
        "    batch_size = 24,\n",
        "    class_mode = 'binary')"
      ],
      "execution_count": 27,
      "outputs": [
        {
          "output_type": "stream",
          "text": [
            "Found 60 images belonging to 2 classes.\n"
          ],
          "name": "stdout"
        }
      ]
    },
    {
      "cell_type": "code",
      "metadata": {
        "id": "pGuVlZF5wZsh",
        "colab": {
          "base_uri": "https://localhost:8080/"
        },
        "outputId": "fdc6ebf4-a8ca-4768-d74c-6d4c65c011e3"
      },
      "source": [
        "hist = model.fit(\n",
        "    train_generator,\n",
        "    steps_per_epoch=8,\n",
        "    epochs = 10,\n",
        "    validation_data = validation_generator,\n",
        "    validation_steps=2\n",
        ")"
      ],
      "execution_count": 28,
      "outputs": [
        {
          "output_type": "stream",
          "text": [
            "Epoch 1/10\n",
            "8/8 [==============================] - 12s 2s/step - loss: 0.2517 - accuracy: 0.9091 - val_loss: 0.1923 - val_accuracy: 0.9583\n",
            "Epoch 2/10\n",
            "8/8 [==============================] - 9s 1s/step - loss: 0.1130 - accuracy: 0.9659 - val_loss: 0.0341 - val_accuracy: 1.0000\n",
            "Epoch 3/10\n",
            "8/8 [==============================] - 9s 1s/step - loss: 0.1236 - accuracy: 0.9545 - val_loss: 0.0429 - val_accuracy: 0.9792\n",
            "Epoch 4/10\n",
            "8/8 [==============================] - 9s 1s/step - loss: 0.1015 - accuracy: 0.9716 - val_loss: 0.0520 - val_accuracy: 0.9792\n",
            "Epoch 5/10\n",
            "8/8 [==============================] - 9s 1s/step - loss: 0.1205 - accuracy: 0.9489 - val_loss: 0.0569 - val_accuracy: 0.9792\n",
            "Epoch 6/10\n",
            "8/8 [==============================] - 9s 1s/step - loss: 0.1103 - accuracy: 0.9773 - val_loss: 0.0775 - val_accuracy: 0.9583\n",
            "Epoch 7/10\n",
            "8/8 [==============================] - 9s 1s/step - loss: 0.0614 - accuracy: 0.9659 - val_loss: 0.1077 - val_accuracy: 0.9583\n",
            "Epoch 8/10\n",
            "8/8 [==============================] - 9s 1s/step - loss: 0.1020 - accuracy: 0.9659 - val_loss: 0.0379 - val_accuracy: 1.0000\n",
            "Epoch 9/10\n",
            "8/8 [==============================] - 9s 1s/step - loss: 0.1320 - accuracy: 0.9602 - val_loss: 0.0502 - val_accuracy: 0.9583\n",
            "Epoch 10/10\n",
            "8/8 [==============================] - 9s 1s/step - loss: 0.0431 - accuracy: 0.9886 - val_loss: 0.0521 - val_accuracy: 0.9792\n"
          ],
          "name": "stdout"
        }
      ]
    },
    {
      "cell_type": "code",
      "metadata": {
        "id": "oO31IcR5zIm3",
        "colab": {
          "base_uri": "https://localhost:8080/"
        },
        "outputId": "cbea42c4-c24e-4906-8d2a-632af3ab2ae3"
      },
      "source": [
        "\n",
        "#Getting summary\n",
        "summary=hist.history\n",
        "print(summary)"
      ],
      "execution_count": 29,
      "outputs": [
        {
          "output_type": "stream",
          "text": [
            "{'loss': [0.2517443597316742, 0.11300531029701233, 0.1236141175031662, 0.10145058482885361, 0.1204724982380867, 0.11031520366668701, 0.061371609568595886, 0.10195515304803848, 0.1319524049758911, 0.04310472682118416], 'accuracy': [0.9090909361839294, 0.9659090638160706, 0.9545454382896423, 0.9715909361839294, 0.9488636255264282, 0.9772727489471436, 0.9659090638160706, 0.9659090638160706, 0.9602272510528564, 0.9886363744735718], 'val_loss': [0.19227635860443115, 0.03408663347363472, 0.04287657141685486, 0.051964472979307175, 0.056897860020399094, 0.07745378464460373, 0.10774987936019897, 0.037918638437986374, 0.05020090937614441, 0.05214298889040947], 'val_accuracy': [0.9583333134651184, 1.0, 0.9791666865348816, 0.9791666865348816, 0.9791666865348816, 0.9583333134651184, 0.9583333134651184, 1.0, 0.9583333134651184, 0.9791666865348816]}\n"
          ],
          "name": "stdout"
        }
      ]
    },
    {
      "cell_type": "code",
      "metadata": {
        "id": "fTpdKm8Lxz6z"
      },
      "source": [
        "model.save(\"model_covid.h5\")\n"
      ],
      "execution_count": 30,
      "outputs": []
    },
    {
      "cell_type": "code",
      "metadata": {
        "colab": {
          "base_uri": "https://localhost:8080/"
        },
        "id": "r4MZi5B8Jig3",
        "outputId": "03d033e0-d12e-4b57-d62b-420d8600909d"
      },
      "source": [
        "model.evaluate_generator(train_generator)\n"
      ],
      "execution_count": 31,
      "outputs": [
        {
          "output_type": "stream",
          "text": [
            "/usr/local/lib/python3.7/dist-packages/keras/engine/training.py:1948: UserWarning: `Model.evaluate_generator` is deprecated and will be removed in a future version. Please use `Model.evaluate`, which supports generators.\n",
            "  warnings.warn('`Model.evaluate_generator` is deprecated and '\n"
          ],
          "name": "stderr"
        },
        {
          "output_type": "execute_result",
          "data": {
            "text/plain": [
              "[0.04988064616918564, 0.9776785969734192]"
            ]
          },
          "metadata": {
            "tags": []
          },
          "execution_count": 31
        }
      ]
    },
    {
      "cell_type": "code",
      "metadata": {
        "colab": {
          "base_uri": "https://localhost:8080/"
        },
        "id": "7l-RO9JxJ_FD",
        "outputId": "465f7cf8-d8d8-41bf-9c2f-5e1d7136e070"
      },
      "source": [
        "print(model.evaluate_generator(validation_generator))\n"
      ],
      "execution_count": 32,
      "outputs": [
        {
          "output_type": "stream",
          "text": [
            "/usr/local/lib/python3.7/dist-packages/keras/engine/training.py:1948: UserWarning: `Model.evaluate_generator` is deprecated and will be removed in a future version. Please use `Model.evaluate`, which supports generators.\n",
            "  warnings.warn('`Model.evaluate_generator` is deprecated and '\n"
          ],
          "name": "stderr"
        },
        {
          "output_type": "stream",
          "text": [
            "[0.041993144899606705, 0.9833333492279053]\n"
          ],
          "name": "stdout"
        }
      ]
    },
    {
      "cell_type": "code",
      "metadata": {
        "id": "VNtEzjxZKRz4"
      },
      "source": [
        ""
      ],
      "execution_count": null,
      "outputs": []
    }
  ]
}